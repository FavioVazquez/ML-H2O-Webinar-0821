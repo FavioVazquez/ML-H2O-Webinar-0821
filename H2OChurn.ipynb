{
 "cells": [
  {
   "cell_type": "markdown",
   "id": "28aa0dba",
   "metadata": {},
   "source": [
    "# Usando ML para resolver problemas de negocio\n",
    "### Favio Vázquez"
   ]
  },
  {
   "cell_type": "markdown",
   "id": "165a68da",
   "metadata": {
    "lang": "es"
   },
   "source": [
    "## El problema: Churn de clientes\n",
    "\n",
    "![](https://www.insideselfstorage.com/sites/insideselfstorage.com/files/styles/article_featured_retina/public/Sad-Customer-Service.jpg?itok=S9sd0R3T)\n",
    "Crédito: https: //www.insideselfstorage.com/customer-service/7-deadly-customer-service-situations-self-storage-and-how-handle-them\n",
    "\n",
    "El churn de clientes se define como cuando los clientes o suscriptores dejan de hacer negocios con una empresa o servicio.\n",
    "\n",
    "Cada fila representa un cliente, cada columna contiene los atributos del cliente.\n",
    "\n",
    "El conjunto de datos incluye información sobre:\n",
    "\n",
    "- Clientes que se fueron en el último mes: la columna se llama **Churn**\n",
    "- Servicios para los que se ha suscrito cada cliente: teléfono, varias líneas, Internet, seguridad en línea, respaldo en línea, protección de dispositivos, soporte técnico y transmisión de TV y películas\n",
    "- Información de la cuenta del cliente: cuánto tiempo ha sido cliente, contrato, método de pago, facturación electrónica, cargos mensuales y cargos totales.\n",
    "- Información demográfica sobre los clientes: sexo, rango de edad y si tienen pareja y dependientes"
   ]
  },
  {
   "cell_type": "markdown",
   "id": "3a80df58",
   "metadata": {
    "lang": "es"
   },
   "source": [
    "## Comprender el contexto y el problema empresarial"
   ]
  },
  {
   "cell_type": "markdown",
   "id": "133027f0",
   "metadata": {
    "lang": "es"
   },
   "source": [
    "Antes de dedicar tiempo a intentar resolver un problema comercial, debemos estar seguros de que tenemos un problema. Para eso necesitamos tener reuniones con las personas cercanas al problema empresarial y los carniceros.\n",
    "\n",
    "Tuvimos dos reuniones, una con el área comercial y otra con los principales ejecutivos. Esto es lo que escuchamos:\n",
    "\n",
    "- Los clientes se van pero no sabemos por qué.\n",
    "- Tenemos 1 mes de datos de clientes donde sabemos cuáles se quedaron y cuáles se fueron.\n",
    "- La rotación de clientes no puede superar el 15% mensual debido a nuestros cálculos.\n",
    "- No conocemos el impacto financiero de perder un cliente.\n",
    "- Podemos dar un vale por USD \\$ 500.\n",
    "- El valor de vida útil estimado para un cliente es USD \\$ 7500."
   ]
  },
  {
   "cell_type": "markdown",
   "id": "d3d14347",
   "metadata": {
    "lang": "es"
   },
   "source": [
    "Tras esas reuniones tenemos que comprobar los datos existentes en la empresa y encontrar información útil en ella. Supongamos que lo hicimos y después de un proceso de integración de datos creamos un conjunto de datos completo para nuestros clientes y su información. Recuerde que estamos trabajando con una empresa de telecomunicaciones."
   ]
  },
  {
   "cell_type": "markdown",
   "id": "53b7f5de",
   "metadata": {
    "lang": "es"
   },
   "source": [
    "## Bibliotecas"
   ]
  },
  {
   "cell_type": "code",
   "execution_count": null,
   "id": "93c6d606",
   "metadata": {},
   "outputs": [],
   "source": [
    "!pip install datatable"
   ]
  },
  {
   "cell_type": "code",
   "execution_count": null,
   "id": "635bad62",
   "metadata": {},
   "outputs": [],
   "source": [
    "!pip install plotly"
   ]
  },
  {
   "cell_type": "code",
   "execution_count": null,
   "id": "550debde",
   "metadata": {},
   "outputs": [],
   "source": [
    "import pandas as pd\n",
    "import datatable as dt\n",
    "from datatable import f, min, max, mean\n",
    "import numpy as np\n",
    "import matplotlib.pyplot as plt\n",
    "import seaborn as sns\n",
    "import plotly.express as px\n",
    "import plotly.figure_factory as ff\n",
    "import plotly.graph_objects as go\n",
    "import plotly.io as pio\n",
    "import scipy.stats as stats\n",
    "import warnings\n",
    "import numpy as np\n",
    "warnings.filterwarnings(\"ignore\")"
   ]
  },
  {
   "cell_type": "markdown",
   "id": "dd38f805",
   "metadata": {
    "lang": "es"
   },
   "source": [
    "## Cargar datos"
   ]
  },
  {
   "cell_type": "code",
   "execution_count": null,
   "id": "1e941a26",
   "metadata": {},
   "outputs": [],
   "source": [
    "df = dt.fread(\"data/churn-data.csv\")"
   ]
  },
  {
   "cell_type": "code",
   "execution_count": null,
   "id": "4a8d9b87",
   "metadata": {},
   "outputs": [],
   "source": [
    "df.head()"
   ]
  },
  {
   "cell_type": "code",
   "execution_count": null,
   "id": "4cbb6868",
   "metadata": {},
   "outputs": [],
   "source": [
    "df.shape"
   ]
  },
  {
   "cell_type": "markdown",
   "id": "433f3488",
   "metadata": {
    "lang": "es"
   },
   "source": [
    "El color significa el tipo de datos donde el rojo denota una cadena, el verde denota int y el azul significa flotante."
   ]
  },
  {
   "cell_type": "markdown",
   "id": "28df0133",
   "metadata": {
    "lang": "es"
   },
   "source": [
    "## ¿Cuántos clientes se han ido?"
   ]
  },
  {
   "cell_type": "code",
   "execution_count": null,
   "id": "605ce865",
   "metadata": {},
   "outputs": [],
   "source": [
    "df[f.Churn == \"Yes\", dt.count()]"
   ]
  },
  {
   "cell_type": "code",
   "execution_count": null,
   "id": "e128275a",
   "metadata": {},
   "outputs": [],
   "source": [
    "1869/7043"
   ]
  },
  {
   "cell_type": "markdown",
   "id": "d7ac0207",
   "metadata": {
    "lang": "es"
   },
   "source": [
    "Se han ido 1869 clientes, es decir, el 26% de nuestros clientes. Entonces, si recordamos las métricas del negocio, tenemos un problema."
   ]
  },
  {
   "cell_type": "markdown",
   "id": "6691de39",
   "metadata": {
    "lang": "es"
   },
   "source": [
    "## ¿Cuánto dinero hemos perdido debido a la pérdida de clientes?"
   ]
  },
  {
   "cell_type": "code",
   "execution_count": null,
   "id": "97f249d2",
   "metadata": {},
   "outputs": [],
   "source": [
    "df[:, dt.count(), dt.by(dt.f.Churn)]"
   ]
  },
  {
   "cell_type": "code",
   "execution_count": null,
   "id": "ca7f8cd5",
   "metadata": {},
   "outputs": [],
   "source": [
    "df[dt.f.Churn == 'Yes', 'TotalCharges'].sum1()"
   ]
  },
  {
   "cell_type": "markdown",
   "id": "47fa048a",
   "metadata": {
    "lang": "es"
   },
   "source": [
    "Hemos perdido $ 2.862.926 debido a la pérdida de clientes. Intentemos resolver este problema."
   ]
  },
  {
   "cell_type": "markdown",
   "id": "0dad9617",
   "metadata": {
    "lang": "es"
   },
   "source": [
    "## Exploración de datos"
   ]
  },
  {
   "cell_type": "code",
   "execution_count": null,
   "id": "1249aab9",
   "metadata": {},
   "outputs": [],
   "source": [
    "df_pandas = df.to_pandas()"
   ]
  },
  {
   "cell_type": "code",
   "execution_count": null,
   "id": "03f53db7",
   "metadata": {},
   "outputs": [],
   "source": [
    "df_pandas.head()"
   ]
  },
  {
   "cell_type": "code",
   "execution_count": null,
   "id": "c2f4ea73",
   "metadata": {},
   "outputs": [],
   "source": [
    "def diagnostic_plots(df_pandas, variable):\n",
    "    \n",
    "    plt.figure(figsize=(20, 9))\n",
    "\n",
    "    plt.subplot(1, 3, 1)\n",
    "    sns.histplot(data = df_pandas, x=variable, bins=30, kde=True)\n",
    "    plt.title('Histogram')\n",
    "    \n",
    "    plt.subplot(1, 3, 2)\n",
    "    stats.probplot(df_pandas[variable], dist=\"norm\", plot=plt)\n",
    "    plt.ylabel('RM quantiles')\n",
    "\n",
    "    plt.subplot(1, 3, 3)\n",
    "    sns.boxplot(x=df_pandas[variable])\n",
    "    plt.title('Boxplot')\n",
    "    \n",
    "    plt.show()"
   ]
  },
  {
   "cell_type": "code",
   "execution_count": null,
   "id": "a4383cab",
   "metadata": {},
   "outputs": [],
   "source": [
    "num_columns=df_pandas.select_dtypes(include=[\"number\"]).columns\n",
    "num_columns"
   ]
  },
  {
   "cell_type": "code",
   "execution_count": null,
   "id": "97fcac5d",
   "metadata": {},
   "outputs": [],
   "source": [
    "for i in num_columns:\n",
    "    diagnostic_plots(df_pandas,i)"
   ]
  },
  {
   "cell_type": "code",
   "execution_count": null,
   "id": "17742929",
   "metadata": {},
   "outputs": [],
   "source": [
    "sns.pairplot(df_pandas.drop(\"SeniorCitizen\",axis=1),hue=\"Churn\",aspect=3);"
   ]
  },
  {
   "cell_type": "code",
   "execution_count": null,
   "id": "0ee32f38",
   "metadata": {},
   "outputs": [],
   "source": [
    "fig = px.histogram(df_pandas, x=\"Churn\")\n",
    "fig.update_layout(width=700, height=500, bargap=0.1)\n",
    "fig.show()"
   ]
  },
  {
   "cell_type": "code",
   "execution_count": null,
   "id": "6c53198c",
   "metadata": {},
   "outputs": [],
   "source": [
    "fig = px.histogram(df_pandas, x=\"Churn\", color=\"SeniorCitizen\")\n",
    "fig.update_layout(width=700, height=500, bargap=0.1)\n",
    "fig.show()"
   ]
  },
  {
   "cell_type": "code",
   "execution_count": null,
   "id": "cd4cc77c",
   "metadata": {},
   "outputs": [],
   "source": [
    "fig = px.histogram(df_pandas, x=\"Churn\", color=\"OnlineSecurity\", barmode=\"group\")\n",
    "fig.update_layout(width=700, height=500, bargap=0.1)\n",
    "fig.show()"
   ]
  },
  {
   "cell_type": "code",
   "execution_count": null,
   "id": "9e3d066b",
   "metadata": {},
   "outputs": [],
   "source": [
    "fig = px.box(df_pandas, x='Churn', y = 'tenure')\n",
    "fig.show()"
   ]
  },
  {
   "cell_type": "code",
   "execution_count": null,
   "id": "0de02af7",
   "metadata": {},
   "outputs": [],
   "source": [
    "ax = sns.kdeplot(df_pandas.MonthlyCharges[(df_pandas[\"Churn\"] == 'No') ],\n",
    "                color=\"Red\", shade = True);\n",
    "ax = sns.kdeplot(df_pandas.MonthlyCharges[(df_pandas[\"Churn\"] == 'Yes') ],\n",
    "                ax =ax, color=\"Blue\", shade= True);\n",
    "ax.legend([\"Not Churn\",\"Churn\"],loc='upper right');\n",
    "ax.set_ylabel('Density');\n",
    "ax.set_xlabel('Monthly Charges');\n",
    "ax.set_title('Distribution of monthly charges by churn');"
   ]
  },
  {
   "cell_type": "code",
   "execution_count": null,
   "id": "ea7a7e0d",
   "metadata": {},
   "outputs": [],
   "source": [
    "corr = df_pandas.apply(lambda x: pd.factorize(x)[0]).corr()\n",
    "mask = np.triu(np.ones_like(corr, dtype=bool))\n",
    "\n",
    "heat = go.Heatmap(\n",
    "    z=corr.mask(mask),\n",
    "    x=corr.columns,\n",
    "    y=corr.columns,\n",
    "    colorscale=px.colors.diverging.RdBu,\n",
    "    zmin=-1,\n",
    "    zmax=1\n",
    ")\n",
    "\n",
    "pio.templates.default = \"plotly_white\"\n",
    "\n",
    "\n",
    "fig.update_xaxes(side=\"bottom\")\n",
    "\n",
    "fig.update_layout(\n",
    "    title_text='Heatmap', \n",
    "    title_x=0.5, \n",
    "    width=1000, \n",
    "    height=1000,\n",
    "    xaxis_showgrid=False,\n",
    "    yaxis_showgrid=False,\n",
    "    xaxis_zeroline=False,\n",
    "    yaxis_zeroline=False,\n",
    "    yaxis_autorange='reversed',\n",
    "    template='plotly_white'\n",
    ")\n",
    "\n",
    "fig=go.Figure(data=[heat])\n",
    "fig.show()"
   ]
  },
  {
   "cell_type": "markdown",
   "id": "7baf92be",
   "metadata": {
    "lang": "es"
   },
   "source": [
    "## Limpieza de datos"
   ]
  },
  {
   "cell_type": "code",
   "execution_count": null,
   "id": "cef5be00",
   "metadata": {},
   "outputs": [],
   "source": [
    "df.names"
   ]
  },
  {
   "cell_type": "code",
   "execution_count": null,
   "id": "10fe5381",
   "metadata": {},
   "outputs": [],
   "source": [
    "df.stypes"
   ]
  },
  {
   "cell_type": "code",
   "execution_count": null,
   "id": "a5b986b7",
   "metadata": {},
   "outputs": [],
   "source": [
    "## missing values\n",
    "dt.math.isna(df).sum()"
   ]
  },
  {
   "cell_type": "markdown",
   "id": "edace07a",
   "metadata": {
    "lang": "es"
   },
   "source": [
    "Solo tenemos 11 valores faltantes en la columna TotalCharges."
   ]
  },
  {
   "cell_type": "code",
   "execution_count": null,
   "id": "c47986d9",
   "metadata": {},
   "outputs": [],
   "source": [
    "## Delete missing rows\n",
    "df = df[dt.rowall(dt.f[:] != None), :]"
   ]
  },
  {
   "cell_type": "code",
   "execution_count": null,
   "id": "e110a62a",
   "metadata": {},
   "outputs": [],
   "source": [
    "# Delete customerID\n",
    "del df[:, \"customerID\"]"
   ]
  },
  {
   "cell_type": "code",
   "execution_count": null,
   "id": "b35677bd",
   "metadata": {},
   "outputs": [],
   "source": [
    "df.head()"
   ]
  },
  {
   "cell_type": "code",
   "execution_count": null,
   "id": "ba2a675b",
   "metadata": {},
   "outputs": [],
   "source": [
    "# Enconde Churn\n",
    "from sklearn.preprocessing import LabelEncoder\n",
    "le = LabelEncoder()\n",
    "df[:, 'Churn'] = dt.Frame(le.fit_transform(np.ravel(df[:, 'Churn'])))"
   ]
  },
  {
   "cell_type": "code",
   "execution_count": null,
   "id": "f657a67a",
   "metadata": {},
   "outputs": [],
   "source": [
    "# Function for OHE\n",
    "def ohe_columns(columns,df):\n",
    "    df_work = df.copy()\n",
    "    for column in columns:\n",
    "        df_ohe = dt.str.split_into_nhot(df_work[column])\n",
    "        df_ohe.names = [f'{column}_{col}' for col in df_ohe.names]\n",
    "        df_work.cbind(df_ohe)\n",
    "    return df_work"
   ]
  },
  {
   "cell_type": "code",
   "execution_count": null,
   "id": "c7569c79",
   "metadata": {},
   "outputs": [],
   "source": [
    "# Select categorical columns\n",
    "categorical_columns = df[:, str].names"
   ]
  },
  {
   "cell_type": "code",
   "execution_count": null,
   "id": "0d79157f",
   "metadata": {},
   "outputs": [],
   "source": [
    "# Get final df after OHE\n",
    "df_final = ohe_columns(categorical_columns,df)"
   ]
  },
  {
   "cell_type": "code",
   "execution_count": null,
   "id": "e6fc172d",
   "metadata": {},
   "outputs": [],
   "source": [
    "# Delete orignal columns\n",
    "del df_final[:, categorical_columns]"
   ]
  },
  {
   "cell_type": "code",
   "execution_count": null,
   "id": "db01928c",
   "metadata": {},
   "outputs": [],
   "source": [
    "df_final.head()"
   ]
  },
  {
   "cell_type": "code",
   "execution_count": null,
   "id": "a4be4fe1",
   "metadata": {},
   "outputs": [],
   "source": [
    "df_final.to_csv(\"data/churn_data_cleaned.csv\")"
   ]
  },
  {
   "cell_type": "markdown",
   "id": "54d2ac82",
   "metadata": {},
   "source": [
    "## Modelado"
   ]
  },
  {
   "cell_type": "code",
   "execution_count": null,
   "id": "9e6deda6",
   "metadata": {},
   "outputs": [],
   "source": [
    "!pip install h2o"
   ]
  },
  {
   "cell_type": "code",
   "execution_count": null,
   "id": "18cc4cf8",
   "metadata": {},
   "outputs": [],
   "source": [
    "import h2o"
   ]
  },
  {
   "cell_type": "code",
   "execution_count": null,
   "id": "2e94824e",
   "metadata": {},
   "outputs": [],
   "source": [
    "h2o.init()"
   ]
  },
  {
   "cell_type": "markdown",
   "id": "3ec625c2",
   "metadata": {},
   "source": [
    "### AutoML con H2O"
   ]
  },
  {
   "cell_type": "code",
   "execution_count": null,
   "id": "e4d569e5",
   "metadata": {},
   "outputs": [],
   "source": [
    "from h2o.automl import *"
   ]
  },
  {
   "cell_type": "code",
   "execution_count": null,
   "id": "5b615c86",
   "metadata": {},
   "outputs": [],
   "source": [
    "train, test = dataset.split_frame([0.8], seed=42)"
   ]
  },
  {
   "cell_type": "code",
   "execution_count": null,
   "id": "6d43cb82",
   "metadata": {},
   "outputs": [],
   "source": [
    "print(\"train:%d test:%d\" % (train.nrows, test.nrows))"
   ]
  },
  {
   "cell_type": "code",
   "execution_count": null,
   "id": "1e61263d",
   "metadata": {},
   "outputs": [],
   "source": [
    "# Identify predictors and response\n",
    "x = train.columns\n",
    "y = \"Churn\"\n",
    "x.remove(y)\n",
    "\n",
    "# For binary classification, response should be a factor\n",
    "train[y] = train[y].asfactor()\n",
    "test[y] = test[y].asfactor()"
   ]
  },
  {
   "cell_type": "code",
   "execution_count": null,
   "id": "58f26b45",
   "metadata": {},
   "outputs": [],
   "source": [
    "aml = H2OAutoML(max_runtime_secs = 90, \n",
    "                max_models = 25,  \n",
    "                seed = 42, \n",
    "                project_name='classification_1',\n",
    "                sort_metric = \"AUC\")\n",
    "\n",
    "%time aml.train(x = x, y = y, training_frame = train)"
   ]
  },
  {
   "cell_type": "code",
   "execution_count": null,
   "id": "745f33c4",
   "metadata": {},
   "outputs": [],
   "source": [
    "lb = aml.leaderboard\n",
    "lb.head(rows = lb.nrows)"
   ]
  },
  {
   "cell_type": "code",
   "execution_count": null,
   "id": "d4159256",
   "metadata": {},
   "outputs": [],
   "source": [
    "aml.leader"
   ]
  },
  {
   "cell_type": "code",
   "execution_count": null,
   "id": "871ece47",
   "metadata": {},
   "outputs": [],
   "source": [
    "aml.leader.model_performance(test_data=test)"
   ]
  },
  {
   "cell_type": "code",
   "execution_count": null,
   "id": "ea90aa81",
   "metadata": {},
   "outputs": [],
   "source": [
    "aml.leader.model_performance(test_data=test).plot()"
   ]
  },
  {
   "cell_type": "code",
   "execution_count": null,
   "id": "5fb82c79",
   "metadata": {},
   "outputs": [],
   "source": [
    "aml.explain(test)"
   ]
  },
  {
   "cell_type": "code",
   "execution_count": null,
   "id": "63276a0c",
   "metadata": {},
   "outputs": [],
   "source": [
    "aml.leader.model_performance(test_data=test).confusion_matrix()"
   ]
  },
  {
   "cell_type": "markdown",
   "id": "556ddcbc",
   "metadata": {},
   "source": [
    "### GBM con H2O"
   ]
  },
  {
   "cell_type": "code",
   "execution_count": null,
   "id": "b20bcda4",
   "metadata": {},
   "outputs": [],
   "source": [
    "dataset = h2o.import_file(\"data/churn_data_cleaned.csv\")"
   ]
  },
  {
   "cell_type": "code",
   "execution_count": null,
   "id": "4e765c97",
   "metadata": {},
   "outputs": [],
   "source": [
    "dataset.head()"
   ]
  },
  {
   "cell_type": "code",
   "execution_count": null,
   "id": "84ac3e8d",
   "metadata": {},
   "outputs": [],
   "source": [
    "from h2o.estimators import *\n",
    "from h2o.grid import *"
   ]
  },
  {
   "cell_type": "code",
   "execution_count": null,
   "id": "2b270088",
   "metadata": {},
   "outputs": [],
   "source": [
    "train, valid, test = dataset.split_frame([0.7, 0.15], seed=42)"
   ]
  },
  {
   "cell_type": "code",
   "execution_count": null,
   "id": "b3827aad",
   "metadata": {},
   "outputs": [],
   "source": [
    "# Identify predictors and response\n",
    "x = train.columns\n",
    "y = \"Churn\"\n",
    "x.remove(y)\n",
    "\n",
    "# For binary classification, response should be a factor\n",
    "train[y] = train[y].asfactor()\n",
    "test[y] = test[y].asfactor()\n",
    "valid[y] = valid[y].asfactor()"
   ]
  },
  {
   "cell_type": "code",
   "execution_count": null,
   "id": "9454036c",
   "metadata": {},
   "outputs": [],
   "source": [
    "gbm = H2OGradientBoostingEstimator(seed = 42, \n",
    "                                   model_id = 'default_gbm')\n",
    "\n",
    "%time gbm.train(x = x, y = y, training_frame = train, validation_frame = valid)"
   ]
  },
  {
   "cell_type": "code",
   "execution_count": null,
   "id": "c160ab68",
   "metadata": {},
   "outputs": [],
   "source": [
    "gbm"
   ]
  },
  {
   "cell_type": "code",
   "execution_count": null,
   "id": "3ccac082",
   "metadata": {},
   "outputs": [],
   "source": [
    "gbm.predict(valid)"
   ]
  },
  {
   "cell_type": "code",
   "execution_count": null,
   "id": "8324c5f0",
   "metadata": {},
   "outputs": [],
   "source": [
    "default_gbm_per = gbm.model_performance(test)"
   ]
  },
  {
   "cell_type": "code",
   "execution_count": null,
   "id": "cf969cb6",
   "metadata": {},
   "outputs": [],
   "source": [
    "default_gbm_per"
   ]
  },
  {
   "cell_type": "code",
   "execution_count": null,
   "id": "e9ae0f6a",
   "metadata": {},
   "outputs": [],
   "source": [
    "# Hyperparameter estimation\n",
    "\n",
    "gbm = H2OGradientBoostingEstimator(ntrees = 500,\n",
    "                                   learn_rate = 0.05,\n",
    "                                   seed = 42,\n",
    "                                   model_id = 'grid_gbm')\n",
    "\n",
    "hyper_params_tune = {'max_depth' : [4, 5, 6, 7, 8],\n",
    "                     'sample_rate': [x/100. for x in range(20,101)],\n",
    "                     'col_sample_rate' : [x/100. for x in range(20,101)],\n",
    "                     'col_sample_rate_per_tree': [x/100. for x in range(20,101)],\n",
    "                     'col_sample_rate_change_per_level': [x/100. for x in range(90,111)]}\n",
    "\n",
    "search_criteria_tune = {'strategy': \"RandomDiscrete\",\n",
    "                        'max_runtime_secs': 90,  \n",
    "                        'max_models': 100,  ## build no more than 100 models\n",
    "                        'seed' : 42}\n",
    "\n",
    "random_grid = H2OGridSearch(model = gbm, hyper_params = hyper_params_tune,\n",
    "                            grid_id = 'random_grid',\n",
    "                            search_criteria = search_criteria_tune)\n",
    "\n",
    "%time random_grid.train(x = x, y = y, training_frame = train, validation_frame = valid)"
   ]
  },
  {
   "cell_type": "code",
   "execution_count": null,
   "id": "6ece0a7d",
   "metadata": {},
   "outputs": [],
   "source": [
    "sorted_random_search = random_grid.get_grid(sort_by = 'auc',decreasing = True)\n",
    "sorted_random_search.sorted_metric_table()"
   ]
  },
  {
   "cell_type": "code",
   "execution_count": null,
   "id": "dd8c0b0f",
   "metadata": {},
   "outputs": [],
   "source": [
    "tuned_gbm = sorted_random_search.models[0]"
   ]
  },
  {
   "cell_type": "code",
   "execution_count": null,
   "id": "7facdb00",
   "metadata": {},
   "outputs": [],
   "source": [
    "tuned_gbm_per = tuned_gbm.model_performance(test)\n",
    "print(tuned_gbm_per.auc())"
   ]
  },
  {
   "cell_type": "code",
   "execution_count": null,
   "id": "9ed6c440",
   "metadata": {},
   "outputs": [],
   "source": [
    "tuned_gbm.explain(test)"
   ]
  },
  {
   "cell_type": "code",
   "execution_count": null,
   "id": "1e4f99f6",
   "metadata": {
    "scrolled": true
   },
   "outputs": [],
   "source": [
    "tuned_gbm.explain_row(test, row_index=15)"
   ]
  },
  {
   "cell_type": "code",
   "execution_count": null,
   "id": "88ee5f94",
   "metadata": {},
   "outputs": [],
   "source": [
    "tuned_gbm.model_performance(test_data=dataset).confusion_matrix()"
   ]
  },
  {
   "cell_type": "code",
   "execution_count": null,
   "id": "251a1f46",
   "metadata": {},
   "outputs": [],
   "source": [
    "dataset.nrows"
   ]
  },
  {
   "cell_type": "markdown",
   "id": "ce626e1a",
   "metadata": {
    "lang": "es"
   },
   "source": [
    "Esta matriz de confusión es para todo el conjunto que incluye el 100% de nuestros datos (7032 filas). Tenemos X verdaderos positivos (X%): estos son los clientes para los que podremos ampliar el valor de vida útil. Si no hubiéramos predicho, entonces no había oportunidad de intervenir.\n",
    "\n",
    "También tenemos X (X%) falsos positivos donde perderemos dinero porque la promoción ofrecida a estos clientes solo será un costo adicional.\n",
    "\n",
    "X (X%) son verdaderos negativos (buenos clientes) y X (X%) son falsos negativos (esta es una oportunidad perdida)."
   ]
  },
  {
   "cell_type": "markdown",
   "id": "77eabc5f",
   "metadata": {
    "lang": "es"
   },
   "source": [
    "En un modelo de churn, a menudo la recompensa de los verdaderos positivos es muy diferente al costo de los falsos positivos. Usemos las siguientes suposiciones:\n",
    "\n",
    "- Se ofrecerá un cupón de \\$500 a todos los clientes identificados como Churn (Verdadero Positivo + Falso Positivo)\n",
    "- Si podemos detener la deserción, ganaremos \\$7500 en valor de por vida para el cliente."
   ]
  },
  {
   "cell_type": "markdown",
   "id": "ba78fc51",
   "metadata": {},
   "source": [
    "| Descripción                    | Clientes  | Valor | Total     |\n",
    "|--------------------------------|-----------|-------|-----------|\n",
    "| True Positive                  | X      | 7500   | X |\n",
    "| True Positive + False Positive | X      | 500  | X  |\n",
    "|                                |           |       | **X** |"
   ]
  },
  {
   "cell_type": "markdown",
   "id": "85d48422",
   "metadata": {},
   "source": [
    "### Referencias\n",
    "\n",
    "- https://github.com/vopani/datatableton\n",
    "- https://docs.h2o.ai/h2o/latest-stable/h2o-docs/welcome.html\n",
    "- https://h2oai.github.io/tutorials/introduction-to-machine-learning-with-h2o-3-automl/#0\n",
    "- https://www.kaggle.com/bhartiprasad17/customer-churn-prediction\n",
    "- https://www.kaggle.com/parulpandey/speed-up-your-data-munging-with-python-s-datatable/data\n",
    "- https://www.kaggle.com/ferhatmetin34/telco-churn-prediction-under-oversampling-automl/data\n",
    "- https://www.kaggle.com/sudalairajkumar/hyperparam-tuning-automl\n",
    "- https://www.kaggle.com/nishantdhingra/h2o-automl-kfold\n",
    "- https://towardsdatascience.com/predict-customer-churn-the-right-way-using-pycaret-8ba6541608ac\n",
    "- https://github.com/h2oai/h2o-meetups/blob/master/2021_02_26_USFData_H2OAutoMLExplain/h2o_automl_explain_usfca_feb2021.pdf\n",
    "- https://towardsdatascience.com/explain-your-model-with-the-shap-values-bc36aac4de3d"
   ]
  }
 ],
 "metadata": {
  "kernelspec": {
   "display_name": "Python 3",
   "language": "python",
   "name": "python3"
  },
  "language_info": {
   "codemirror_mode": {
    "name": "ipython",
    "version": 3
   },
   "file_extension": ".py",
   "mimetype": "text/x-python",
   "name": "python",
   "nbconvert_exporter": "python",
   "pygments_lexer": "ipython3",
   "version": "3.8.8"
  },
  "nbTranslate": {
   "displayLangs": [
    "es"
   ],
   "hotkey": "alt-t",
   "langInMainMenu": true,
   "sourceLang": "en",
   "targetLang": "es",
   "useGoogleTranslate": true
  }
 },
 "nbformat": 4,
 "nbformat_minor": 5
}
